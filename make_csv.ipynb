{
 "cells": [
  {
   "cell_type": "code",
   "execution_count": 1,
   "metadata": {},
   "outputs": [
    {
     "name": "stderr",
     "output_type": "stream",
     "text": [
      "/tmp/ipykernel_695510/3285650027.py:4: DtypeWarning: Columns (7,8,9,11,12,13,14,15,17,50,51) have mixed types. Specify dtype option on import or set low_memory=False.\n",
      "  schools = pd.read_csv('data/schools_ccd_directory.csv')\n"
     ]
    },
    {
     "name": "stdout",
     "output_type": "stream",
     "text": [
      "   ncessch_num  year                        school_name         city state  \\\n",
      "0  10000500870  2020          Albertville Middle School  Albertville    AL   \n",
      "1  10000500871  2020            Albertville High School  Albertville    AL   \n",
      "2  10000500879  2020    Albertville Intermediate School  Albertville    AL   \n",
      "3  10000500889  2020      Albertville Elementary School  Albertville    AL   \n",
      "4  10000501616  2020  Albertville Kindergarten and PreK  Albertville    AL   \n",
      "\n",
      "     zip  latitude  longitude  perflunch  perrlunch  perfrlunch    pernam  \\\n",
      "0  35950   34.2602 -86.206200   0.365639   0.029540    0.395179  0.002203   \n",
      "1  35950   34.2622 -86.204900   0.283935   0.032601    0.316536  0.000623   \n",
      "2  35950   34.2733 -86.220100   0.370370   0.034081    0.404451  0.004489   \n",
      "3  35950   34.2527 -86.221806   0.437225   0.046046    0.483271  0.004405   \n",
      "4  35951   34.2898 -86.193300   0.325540   0.022814    0.348354  0.007194   \n",
      "\n",
      "   perasian   perhisp  perblack     pertr  perwhite               level  \\\n",
      "0  0.004405  0.516520  0.036344  0.031938  0.408590              Middle   \n",
      "1  0.003736  0.488792  0.043587  0.023661  0.439602      High/Secondary   \n",
      "2  0.008979  0.539843  0.026936  0.032548  0.387205              Middle   \n",
      "3  0.004405  0.547357  0.052863  0.016520  0.374449  Elementary/Primary   \n",
      "4  0.003597  0.517986  0.059353  0.023381  0.388489  Elementary/Primary   \n",
      "\n",
      "   poverty_pct  \n",
      "0    20.607454  \n",
      "1    16.530092  \n",
      "2    22.569937  \n",
      "3    22.442440  \n",
      "4    17.828953  \n",
      "         ncessch_num  year                      school_name          city  \\\n",
      "101657  780003000024  2020       LOCKHART ELEMENTARY SCHOOL  Saint Thomas   \n",
      "101658  780003000026  2020  ULLA F MULLER ELEMENTARY SCHOOL  Saint Thomas   \n",
      "101659  780003000027  2020  YVONNE BOWSKY ELEMENTARY SCHOOL  Saint Thomas   \n",
      "101660  780003000033  2020       CANCRYN JUNIOR HIGH SCHOOL  Saint Thomas   \n",
      "101661  780003000034  2020     BERTHA BOSCHULTE JUNIOR HIGH  Saint Thomas   \n",
      "\n",
      "       state  zip   latitude  longitude  perflunch  perrlunch  perfrlunch  \\\n",
      "101657    VI  802  18.341950 -64.917602        NaN        NaN         NaN   \n",
      "101658    VI  802  18.338742 -64.952483        NaN        NaN         NaN   \n",
      "101659    VI  802  18.354782 -64.899024        NaN        NaN         NaN   \n",
      "101660    VI  802  18.336658 -64.945940        NaN        NaN         NaN   \n",
      "101661    VI  802  18.318230 -64.890311        NaN        NaN         NaN   \n",
      "\n",
      "        pernam  perasian  perhisp  perblack  pertr  perwhite level  \\\n",
      "101657     NaN       NaN      NaN       NaN    NaN       NaN   NaN   \n",
      "101658     NaN       NaN      NaN       NaN    NaN       NaN   NaN   \n",
      "101659     NaN       NaN      NaN       NaN    NaN       NaN   NaN   \n",
      "101660     NaN       NaN      NaN       NaN    NaN       NaN   NaN   \n",
      "101661     NaN       NaN      NaN       NaN    NaN       NaN   NaN   \n",
      "\n",
      "        poverty_pct  \n",
      "101657          NaN  \n",
      "101658          NaN  \n",
      "101659          NaN  \n",
      "101660          NaN  \n",
      "101661          NaN  \n",
      "(101662, 19)\n"
     ]
    }
   ],
   "source": [
    "import pandas as pd\n",
    "\n",
    "# Create schools dataframe\n",
    "schools = pd.read_csv('data/schools_ccd_directory.csv')\n",
    "schools = schools[['ncessch_num', 'year', 'school_name', 'city_mailing', 'state_mailing', 'zip_mailing', 'latitude', 'longitude']]\n",
    "schools.columns = ['ncessch_num', 'year', 'school_name', 'city', 'state', 'zip', 'latitude', 'longitude']\n",
    "\n",
    "# Create LISD dataframe\n",
    "lisd_2012_2017 = pd.read_csv('data/LISD_1.0_2012-2017.csv')\n",
    "lisd_2018_2022 = pd.read_csv('data/LISD_1.0_2018-2022.csv')\n",
    "lisd = pd.concat([lisd_2012_2017, lisd_2018_2022])\n",
    "\n",
    "# Create meps dataframe\n",
    "meps = pd.read_csv('data/schools_meps.csv')\n",
    "meps = meps[['ncessch_num', 'year', 'meps_poverty_pct']]\n",
    "meps.columns = ['ncessch_num', 'year', 'poverty_pct']\n",
    "\n",
    "lisd = lisd[['ncessch', 'year', 'perflunch', 'perrlunch', 'perfrlunch', 'pernam', 'perasian', 'perhisp', 'perblack', 'pertr', 'perwhite', 'level']]\n",
    "lisd.columns = ['ncessch_num', 'year', 'perflunch', 'perrlunch', 'perfrlunch', 'pernam', 'perasian', 'perhisp', 'perblack', 'pertr', 'perwhite', 'level']\n",
    "\n",
    "#filter dataframes for the year range 2013-2020\n",
    "lisd = lisd[lisd['year'] >= 2020]   \n",
    "lisd = lisd[lisd['year'] <= 2020]\n",
    "meps = meps[meps['year'] >= 2020]\n",
    "meps = meps[meps['year'] <= 2020]\n",
    "schools = schools[schools['year'] >= 2020]\n",
    "schools = schools[schools['year'] <= 2020]\n",
    "\n",
    "# Merge schools lisd and meps dataframes\n",
    "dimpovertyrace = pd.merge(schools, lisd, on=['ncessch_num', 'year'], how='left')\n",
    "dimpovertyrace = pd.merge(dimpovertyrace, meps, on=['ncessch_num', 'year'], how='left')\n",
    "\n",
    "print(dimpovertyrace.head())\n",
    "print(dimpovertyrace.tail())\n",
    "print(dimpovertyrace.shape)\n",
    "\n",
    "\n"
   ]
  },
  {
   "cell_type": "code",
   "execution_count": 2,
   "metadata": {},
   "outputs": [
    {
     "name": "stdout",
     "output_type": "stream",
     "text": [
      "ncessch_num        0\n",
      "year               0\n",
      "school_name        0\n",
      "city               0\n",
      "state              0\n",
      "zip                0\n",
      "latitude           0\n",
      "longitude          0\n",
      "perflunch       7469\n",
      "perrlunch       7469\n",
      "perfrlunch      7469\n",
      "pernam          7471\n",
      "perasian        7471\n",
      "perhisp         7471\n",
      "perblack        7471\n",
      "pertr           7471\n",
      "perwhite        7471\n",
      "level           7470\n",
      "poverty_pct    10206\n",
      "dtype: int64\n"
     ]
    }
   ],
   "source": [
    "null_counts = dimpovertyrace.isnull().sum()\n",
    "print(null_counts)"
   ]
  },
  {
   "cell_type": "code",
   "execution_count": 3,
   "metadata": {},
   "outputs": [
    {
     "name": "stdout",
     "output_type": "stream",
     "text": [
      "(101662, 19)\n"
     ]
    }
   ],
   "source": [
    "dimpovertyrace = dimpovertyrace.dropna(subset=['school_name', 'city', 'zip'])\n",
    "print(dimpovertyrace.shape)"
   ]
  },
  {
   "cell_type": "code",
   "execution_count": 4,
   "metadata": {},
   "outputs": [
    {
     "name": "stdout",
     "output_type": "stream",
     "text": [
      "The year with the most null values is: 2020\n",
      "year\n",
      "2020    100.0\n",
      "Name: proportion, dtype: float64\n",
      "The school with the most null values is: 780003000034\n",
      "ncessch_num\n",
      "780003000034    0.008485\n",
      "10000600876     0.008485\n",
      "10000600986     0.008485\n",
      "10000600987     0.008485\n",
      "10000702359     0.008485\n",
      "                  ...   \n",
      "10001502131     0.008485\n",
      "10001502126     0.008485\n",
      "10001502121     0.008485\n",
      "10001502118     0.008485\n",
      "10001501827     0.008485\n",
      "Name: proportion, Length: 11786, dtype: float64\n",
      "Empty DataFrame\n",
      "Columns: [ncessch_num, year, school_name, city, state, zip, latitude, longitude, perflunch, perrlunch, perfrlunch, pernam, perasian, perhisp, perblack, pertr, perwhite, level, poverty_pct]\n",
      "Index: []\n"
     ]
    }
   ],
   "source": [
    "null_years = dimpovertyrace[dimpovertyrace.isnull().any(axis=1)]['year']\n",
    "most_null_year = null_years.value_counts().idxmax()\n",
    "print(f\"The year with the most null values is: {most_null_year}\")\n",
    "\n",
    "null_years_percentage = null_years.value_counts(normalize=True) * 100\n",
    "print(null_years_percentage)\n",
    "\n",
    "null_schools = dimpovertyrace[dimpovertyrace.isnull().any(axis=1)]['ncessch_num']\n",
    "most_null_school = null_schools.value_counts().idxmax()\n",
    "print(f\"The school with the most null values is: {most_null_school}\")\n",
    "\n",
    "null_schools_percentage = null_schools.value_counts(normalize=True) * 100\n",
    "print(null_schools_percentage)\n",
    "\n",
    "# Find schools that have null values for every year\n",
    "null_schools_all_years = dimpovertyrace.groupby('ncessch_num').filter(lambda x: x.isnull().all().all())\n",
    "print(null_schools_all_years)"
   ]
  },
  {
   "cell_type": "code",
   "execution_count": 5,
   "metadata": {},
   "outputs": [
    {
     "name": "stdout",
     "output_type": "stream",
     "text": [
      "(89876, 19)\n"
     ]
    }
   ],
   "source": [
    "columns_to_check = ['perflunch', 'perrlunch', 'pernam', 'perasian', 'perhisp', 'perblack', 'pertr', 'perwhite', 'poverty_pct']\n",
    "dimpovertyrace = dimpovertyrace.dropna(subset=columns_to_check)\n",
    "print(dimpovertyrace.shape)"
   ]
  },
  {
   "cell_type": "code",
   "execution_count": 6,
   "metadata": {},
   "outputs": [
    {
     "name": "stdout",
     "output_type": "stream",
     "text": [
      "ncessch_num    0\n",
      "year           0\n",
      "school_name    0\n",
      "city           0\n",
      "state          0\n",
      "zip            0\n",
      "latitude       0\n",
      "longitude      0\n",
      "perflunch      0\n",
      "perrlunch      0\n",
      "perfrlunch     0\n",
      "pernam         0\n",
      "perasian       0\n",
      "perhisp        0\n",
      "perblack       0\n",
      "pertr          0\n",
      "perwhite       0\n",
      "level          0\n",
      "poverty_pct    0\n",
      "dtype: int64\n"
     ]
    }
   ],
   "source": [
    "null_counts = dimpovertyrace.isnull().sum()\n",
    "print(null_counts)"
   ]
  },
  {
   "cell_type": "code",
   "execution_count": 7,
   "metadata": {},
   "outputs": [
    {
     "name": "stdout",
     "output_type": "stream",
     "text": [
      "   ncessch_num  year                        school_name         city state  \\\n",
      "0  10000500870  2020          Albertville Middle School  Albertville    AL   \n",
      "1  10000500871  2020            Albertville High School  Albertville    AL   \n",
      "2  10000500879  2020    Albertville Intermediate School  Albertville    AL   \n",
      "3  10000500889  2020      Albertville Elementary School  Albertville    AL   \n",
      "4  10000501616  2020  Albertville Kindergarten and PreK  Albertville    AL   \n",
      "\n",
      "     zip  latitude  longitude  perflunch  perrlunch  perfrlunch    pernam  \\\n",
      "0  35950   34.2602 -86.206200   0.365639   0.029540    0.395179  0.002203   \n",
      "1  35950   34.2622 -86.204900   0.283935   0.032601    0.316536  0.000623   \n",
      "2  35950   34.2733 -86.220100   0.370370   0.034081    0.404451  0.004489   \n",
      "3  35950   34.2527 -86.221806   0.437225   0.046046    0.483271  0.004405   \n",
      "4  35951   34.2898 -86.193300   0.325540   0.022814    0.348354  0.007194   \n",
      "\n",
      "   perasian   perhisp  perblack     pertr  perwhite               level  \\\n",
      "0  0.004405  0.516520  0.036344  0.031938  0.408590              Middle   \n",
      "1  0.003736  0.488792  0.043587  0.023661  0.439602      High/Secondary   \n",
      "2  0.008979  0.539843  0.026936  0.032548  0.387205              Middle   \n",
      "3  0.004405  0.547357  0.052863  0.016520  0.374449  Elementary/Primary   \n",
      "4  0.003597  0.517986  0.059353  0.023381  0.388489  Elementary/Primary   \n",
      "\n",
      "   poverty_pct  \n",
      "0    20.607454  \n",
      "1    16.530092  \n",
      "2    22.569937  \n",
      "3    22.442440  \n",
      "4    17.828953  \n"
     ]
    }
   ],
   "source": [
    "print(dimpovertyrace.head())"
   ]
  },
  {
   "cell_type": "code",
   "execution_count": 8,
   "metadata": {},
   "outputs": [
    {
     "name": "stdout",
     "output_type": "stream",
     "text": [
      "   ncessch_num  year                        school_name         city state  \\\n",
      "0  10000500870  2020          Albertville Middle School  Albertville    AL   \n",
      "1  10000500871  2020            Albertville High School  Albertville    AL   \n",
      "2  10000500879  2020    Albertville Intermediate School  Albertville    AL   \n",
      "3  10000500889  2020      Albertville Elementary School  Albertville    AL   \n",
      "4  10000501616  2020  Albertville Kindergarten and PreK  Albertville    AL   \n",
      "\n",
      "     zip  latitude  longitude  perflunch  perrlunch  perfrlunch    pernam  \\\n",
      "0  35950   34.2602 -86.206200   0.365639   0.029540    0.395179  0.002203   \n",
      "1  35950   34.2622 -86.204900   0.283935   0.032601    0.316536  0.000623   \n",
      "2  35950   34.2733 -86.220100   0.370370   0.034081    0.404451  0.004489   \n",
      "3  35950   34.2527 -86.221806   0.437225   0.046046    0.483271  0.004405   \n",
      "4  35951   34.2898 -86.193300   0.325540   0.022814    0.348354  0.007194   \n",
      "\n",
      "   perasian   perhisp  perblack     pertr  perwhite               level  \\\n",
      "0  0.004405  0.516520  0.036344  0.031938  0.408590              Middle   \n",
      "1  0.003736  0.488792  0.043587  0.023661  0.439602      High/Secondary   \n",
      "2  0.008979  0.539843  0.026936  0.032548  0.387205              Middle   \n",
      "3  0.004405  0.547357  0.052863  0.016520  0.374449  Elementary/Primary   \n",
      "4  0.003597  0.517986  0.059353  0.023381  0.388489  Elementary/Primary   \n",
      "\n",
      "   perpoverty  \n",
      "0    0.206075  \n",
      "1    0.165301  \n",
      "2    0.225699  \n",
      "3    0.224424  \n",
      "4    0.178290  \n"
     ]
    }
   ],
   "source": [
    "dimpovertyrace = dimpovertyrace.rename(columns={'poverty_pct': 'perpoverty'})\n",
    "dimpovertyrace['perpoverty'] = dimpovertyrace['perpoverty'] / 100\n",
    "print(dimpovertyrace.head())"
   ]
  },
  {
   "cell_type": "code",
   "execution_count": 9,
   "metadata": {},
   "outputs": [
    {
     "name": "stdout",
     "output_type": "stream",
     "text": [
      "   ncessch_num  year  read_test_pct_prof_midpt  math_test_pct_prof_midpt  \\\n",
      "0  10000500870  2013                      29.0                      23.0   \n",
      "1  10000500871  2013                      60.0                      18.0   \n",
      "2  10000500879  2013                      32.0                      41.0   \n",
      "3  10000500889  2013                      30.0                      42.0   \n",
      "4  10000600193  2013                      41.0                      39.0   \n",
      "\n",
      "   grade_edfacts  race  sex  lep  homeless  migrant  disability  \\\n",
      "0             99    99   99   99        99       99          99   \n",
      "1             99    99   99   99        99       99          99   \n",
      "2             99    99   99   99        99       99          99   \n",
      "3             99    99   99   99        99       99          99   \n",
      "4             99    99   99   99        99       99          99   \n",
      "\n",
      "   econ_disadvantaged  foster_care  military_connected  \n",
      "0                  99           99                  99  \n",
      "1                  99           99                  99  \n",
      "2                  99           99                  99  \n",
      "3                  99           99                  99  \n",
      "4                  99           99                  99  \n",
      "         ncessch_num  year  read_test_pct_prof_midpt  \\\n",
      "612363  490036001119  2020                      -3.0   \n",
      "612364  510004202388  2020                      -3.0   \n",
      "612365  540030001595  2020                      -3.0   \n",
      "612366  540030001596  2020                      -3.0   \n",
      "612367  540030001597  2020                      -3.0   \n",
      "\n",
      "        math_test_pct_prof_midpt  grade_edfacts  race  sex  lep  homeless  \\\n",
      "612363                      -3.0             99    99   99   99        99   \n",
      "612364                      -3.0             99    99   99   99        99   \n",
      "612365                      14.0             99    99   99   99        99   \n",
      "612366                      13.0             99    99   99   99        99   \n",
      "612367                      19.0             99    99   99   99        99   \n",
      "\n",
      "        migrant  disability  econ_disadvantaged  foster_care  \\\n",
      "612363       99          99                  99           99   \n",
      "612364       99          99                  99           99   \n",
      "612365       99          99                  99           99   \n",
      "612366       99          99                  99           99   \n",
      "612367       99          99                  99           99   \n",
      "\n",
      "        military_connected  \n",
      "612363                  99  \n",
      "612364                  99  \n",
      "612365                  99  \n",
      "612366                  99  \n",
      "612367                  99  \n",
      "(612368, 14)\n"
     ]
    }
   ],
   "source": [
    "import pandas as pd\n",
    "\n",
    "# List of years to include, excluding 2019\n",
    "years = [year for year in range(2013, 2021) if year != 2019]\n",
    "\n",
    "# Initialize an empty list to store dataframes\n",
    "dataframes = []\n",
    "\n",
    "# Loop through each year and read the corresponding CSV file\n",
    "for year in years:\n",
    "    file_path = f'data/schools_edfacts_assessments_{year}.csv'\n",
    "    df = pd.read_csv(file_path)\n",
    "    df['year'] = year  # Add a year column to each dataframe\n",
    "    df = df[['ncessch_num', 'year', 'read_test_pct_prof_midpt', 'math_test_pct_prof_midpt', 'grade_edfacts', 'race', 'sex', 'lep', 'homeless', 'migrant', 'disability', 'econ_disadvantaged', 'foster_care', 'military_connected']]  # Select only the required columns\n",
    "    df = df[(df['grade_edfacts'] == 99) & (df['race'] == 99) & (df['sex'] == 99) & (df['lep'] == 99) & (df['homeless'] == 99) & (df['migrant'] == 99) & (df['disability'] == 99) & (df['econ_disadvantaged'] == 99) & (df['foster_care'] == 99) & (df['military_connected'] == 99)]\n",
    "    dataframes.append(df)\n",
    "\n",
    "# Concatenate all dataframes into a single dataframe\n",
    "schools_edfacts_assessments = pd.concat(dataframes, ignore_index=True)\n",
    "\n",
    "print(schools_edfacts_assessments.head())\n",
    "print(schools_edfacts_assessments.tail())\n",
    "print(schools_edfacts_assessments.shape)"
   ]
  },
  {
   "cell_type": "code",
   "execution_count": 10,
   "metadata": {},
   "outputs": [
    {
     "name": "stdout",
     "output_type": "stream",
     "text": [
      "ncessch_num                    0\n",
      "year                           0\n",
      "read_test_pct_prof_midpt    3015\n",
      "math_test_pct_prof_midpt    5019\n",
      "grade_edfacts                  0\n",
      "race                           0\n",
      "sex                            0\n",
      "lep                            0\n",
      "homeless                       0\n",
      "migrant                        0\n",
      "disability                     0\n",
      "econ_disadvantaged             0\n",
      "foster_care                    0\n",
      "military_connected             0\n",
      "dtype: int64\n"
     ]
    }
   ],
   "source": [
    "null_counts_edfacts = schools_edfacts_assessments.isnull().sum()\n",
    "print(null_counts_edfacts)"
   ]
  },
  {
   "cell_type": "code",
   "execution_count": 11,
   "metadata": {},
   "outputs": [
    {
     "name": "stdout",
     "output_type": "stream",
     "text": [
      "(604334, 14)\n"
     ]
    }
   ],
   "source": [
    "schools_edfacts_assessments = schools_edfacts_assessments.dropna()\n",
    "print(schools_edfacts_assessments.shape)"
   ]
  },
  {
   "cell_type": "code",
   "execution_count": null,
   "metadata": {},
   "outputs": [
    {
     "name": "stdout",
     "output_type": "stream",
     "text": [
      "         ncessch_num  year  read_test_pct_prof_midpt  \\\n",
      "412      10117002175  2013                      -3.0   \n",
      "441      10129000833  2013                      -3.0   \n",
      "550      10169000581  2013                      -3.0   \n",
      "652      10189001675  2013                      -3.0   \n",
      "735      10204002211  2013                      -3.0   \n",
      "...              ...   ...                       ...   \n",
      "612360  484035007062  2020                      -3.0   \n",
      "612361  484230010675  2020                      -3.0   \n",
      "612362  490003001553  2020                      -3.0   \n",
      "612363  490036001119  2020                      -3.0   \n",
      "612364  510004202388  2020                      -3.0   \n",
      "\n",
      "        math_test_pct_prof_midpt  grade_edfacts  race  sex  lep  homeless  \\\n",
      "412                         -3.0             99    99   99   99        99   \n",
      "441                         -3.0             99    99   99   99        99   \n",
      "550                         -3.0             99    99   99   99        99   \n",
      "652                         -3.0             99    99   99   99        99   \n",
      "735                         -3.0             99    99   99   99        99   \n",
      "...                          ...            ...   ...  ...  ...       ...   \n",
      "612360                      -3.0             99    99   99   99        99   \n",
      "612361                      -3.0             99    99   99   99        99   \n",
      "612362                      -3.0             99    99   99   99        99   \n",
      "612363                      -3.0             99    99   99   99        99   \n",
      "612364                      -3.0             99    99   99   99        99   \n",
      "\n",
      "        migrant  disability  econ_disadvantaged  foster_care  \\\n",
      "412          99          99                  99           99   \n",
      "441          99          99                  99           99   \n",
      "550          99          99                  99           99   \n",
      "652          99          99                  99           99   \n",
      "735          99          99                  99           99   \n",
      "...         ...         ...                 ...          ...   \n",
      "612360       99          99                  99           99   \n",
      "612361       99          99                  99           99   \n",
      "612362       99          99                  99           99   \n",
      "612363       99          99                  99           99   \n",
      "612364       99          99                  99           99   \n",
      "\n",
      "        military_connected  \n",
      "412                     99  \n",
      "441                     99  \n",
      "550                     99  \n",
      "652                     99  \n",
      "735                     99  \n",
      "...                    ...  \n",
      "612360                  99  \n",
      "612361                  99  \n",
      "612362                  99  \n",
      "612363                  99  \n",
      "612364                  99  \n",
      "\n",
      "[12449 rows x 14 columns]\n"
     ]
    }
   ],
   "source": [
    "negative_test_scores = schools_edfacts_assessments[(schools_edfacts_assessments['read_test_pct_prof_midpt'] < 0) & (schools_edfacts_assessments['math_test_pct_prof_midpt'] < 0)]\n",
    "print(negative_test_scores)"
   ]
  },
  {
   "cell_type": "code",
   "execution_count": null,
   "metadata": {},
   "outputs": [
    {
     "name": "stdout",
     "output_type": "stream",
     "text": [
      "(589173, 14)\n"
     ]
    }
   ],
   "source": [
    "schools_edfacts_assessments = schools_edfacts_assessments[(schools_edfacts_assessments['read_test_pct_prof_midpt'] >= 0) & (schools_edfacts_assessments['math_test_pct_prof_midpt'] >= 0)]\n",
    "print(schools_edfacts_assessments.shape)"
   ]
  },
  {
   "cell_type": "code",
   "execution_count": null,
   "metadata": {},
   "outputs": [
    {
     "name": "stdout",
     "output_type": "stream",
     "text": [
      "   ncessch_num  year  read_test_pct_prof_midpt  math_test_pct_prof_midpt  \\\n",
      "0  10000500870  2013                      29.0                      23.0   \n",
      "1  10000500871  2013                      60.0                      18.0   \n",
      "2  10000500879  2013                      32.0                      41.0   \n",
      "3  10000500889  2013                      30.0                      42.0   \n",
      "4  10000600193  2013                      41.0                      39.0   \n",
      "\n",
      "   grade_edfacts  race  sex  lep  homeless  migrant  disability  \\\n",
      "0             99    99   99   99        99       99          99   \n",
      "1             99    99   99   99        99       99          99   \n",
      "2             99    99   99   99        99       99          99   \n",
      "3             99    99   99   99        99       99          99   \n",
      "4             99    99   99   99        99       99          99   \n",
      "\n",
      "   econ_disadvantaged  foster_care  military_connected  \n",
      "0                  99           99                  99  \n",
      "1                  99           99                  99  \n",
      "2                  99           99                  99  \n",
      "3                  99           99                  99  \n",
      "4                  99           99                  99  \n"
     ]
    }
   ],
   "source": [
    "print(schools_edfacts_assessments.head())\n"
   ]
  },
  {
   "cell_type": "code",
   "execution_count": null,
   "metadata": {},
   "outputs": [
    {
     "name": "stdout",
     "output_type": "stream",
     "text": [
      "   ncessch_num  year                        school_name         city state  \\\n",
      "0  10000500870  2020          Albertville Middle School  Albertville    AL   \n",
      "1  10000500871  2020            Albertville High School  Albertville    AL   \n",
      "2  10000500879  2020    Albertville Intermediate School  Albertville    AL   \n",
      "3  10000500889  2020      Albertville Elementary School  Albertville    AL   \n",
      "4  10000501616  2020  Albertville Kindergarten and PreK  Albertville    AL   \n",
      "\n",
      "     zip  latitude  longitude  perflunch  perrlunch  ...  grade_edfacts  race  \\\n",
      "0  35950   34.2602 -86.206200   0.365639   0.029540  ...           99.0  99.0   \n",
      "1  35950   34.2622 -86.204900   0.283935   0.032601  ...           99.0  99.0   \n",
      "2  35950   34.2733 -86.220100   0.370370   0.034081  ...           99.0  99.0   \n",
      "3  35950   34.2527 -86.221806   0.437225   0.046046  ...           99.0  99.0   \n",
      "4  35951   34.2898 -86.193300   0.325540   0.022814  ...            NaN   NaN   \n",
      "\n",
      "    sex   lep  homeless  migrant  disability econ_disadvantaged  foster_care  \\\n",
      "0  99.0  99.0      99.0     99.0        99.0               99.0         99.0   \n",
      "1  99.0  99.0      99.0     99.0        99.0               99.0         99.0   \n",
      "2  99.0  99.0      99.0     99.0        99.0               99.0         99.0   \n",
      "3  99.0  99.0      99.0     99.0        99.0               99.0         99.0   \n",
      "4   NaN   NaN       NaN      NaN         NaN                NaN          NaN   \n",
      "\n",
      "   military_connected  \n",
      "0                99.0  \n",
      "1                99.0  \n",
      "2                99.0  \n",
      "3                99.0  \n",
      "4                 NaN  \n",
      "\n",
      "[5 rows x 31 columns]\n",
      "(89876, 31)\n"
     ]
    }
   ],
   "source": [
    "merged_df = pd.merge(dimpovertyrace, schools_edfacts_assessments, on=['ncessch_num', 'year'], how='left')\n",
    "print(merged_df.head())\n",
    "print(merged_df.shape)"
   ]
  },
  {
   "cell_type": "code",
   "execution_count": 16,
   "metadata": {},
   "outputs": [
    {
     "name": "stdout",
     "output_type": "stream",
     "text": [
      "ncessch_num                     0\n",
      "year                            0\n",
      "school_name                     0\n",
      "city                            0\n",
      "state                           0\n",
      "zip                             0\n",
      "latitude                        0\n",
      "longitude                       0\n",
      "perflunch                       0\n",
      "perrlunch                       0\n",
      "perfrlunch                      0\n",
      "pernam                          0\n",
      "perasian                        0\n",
      "perhisp                         0\n",
      "perblack                        0\n",
      "pertr                           0\n",
      "perwhite                        0\n",
      "level                           0\n",
      "perpoverty                      0\n",
      "read_test_pct_prof_midpt    15501\n",
      "math_test_pct_prof_midpt    15501\n",
      "grade_edfacts               15501\n",
      "race                        15501\n",
      "sex                         15501\n",
      "lep                         15501\n",
      "homeless                    15501\n",
      "migrant                     15501\n",
      "disability                  15501\n",
      "econ_disadvantaged          15501\n",
      "foster_care                 15501\n",
      "military_connected          15501\n",
      "dtype: int64\n"
     ]
    }
   ],
   "source": [
    "null_counts_all_columns = merged_df.isnull().sum()\n",
    "print(null_counts_all_columns)"
   ]
  },
  {
   "cell_type": "code",
   "execution_count": 17,
   "metadata": {},
   "outputs": [
    {
     "name": "stdout",
     "output_type": "stream",
     "text": [
      "   ncessch_num  year                        school_name         city state  \\\n",
      "0  10000500870  2020          Albertville Middle School  Albertville    AL   \n",
      "1  10000500871  2020            Albertville High School  Albertville    AL   \n",
      "2  10000500879  2020    Albertville Intermediate School  Albertville    AL   \n",
      "3  10000500889  2020      Albertville Elementary School  Albertville    AL   \n",
      "4  10000501616  2020  Albertville Kindergarten and PreK  Albertville    AL   \n",
      "\n",
      "     zip  latitude  longitude  perflunch  perrlunch  ...  grade_edfacts  race  \\\n",
      "0  35950   34.2602 -86.206200   0.365639   0.029540  ...           99.0  99.0   \n",
      "1  35950   34.2622 -86.204900   0.283935   0.032601  ...           99.0  99.0   \n",
      "2  35950   34.2733 -86.220100   0.370370   0.034081  ...           99.0  99.0   \n",
      "3  35950   34.2527 -86.221806   0.437225   0.046046  ...           99.0  99.0   \n",
      "4  35951   34.2898 -86.193300   0.325540   0.022814  ...            NaN   NaN   \n",
      "\n",
      "    sex   lep  homeless  migrant  disability econ_disadvantaged  foster_care  \\\n",
      "0  99.0  99.0      99.0     99.0        99.0               99.0         99.0   \n",
      "1  99.0  99.0      99.0     99.0        99.0               99.0         99.0   \n",
      "2  99.0  99.0      99.0     99.0        99.0               99.0         99.0   \n",
      "3  99.0  99.0      99.0     99.0        99.0               99.0         99.0   \n",
      "4   NaN   NaN       NaN      NaN         NaN                NaN          NaN   \n",
      "\n",
      "   military_connected  \n",
      "0                99.0  \n",
      "1                99.0  \n",
      "2                99.0  \n",
      "3                99.0  \n",
      "4                 NaN  \n",
      "\n",
      "[5 rows x 31 columns]\n"
     ]
    }
   ],
   "source": [
    "merged_df = merged_df.rename(columns={'read_test_pct_prof_midpt': 'pctprofread', 'math_test_pct_prof_midpt': 'pctprofmath'})\n",
    "print(merged_df.head())"
   ]
  },
  {
   "cell_type": "code",
   "execution_count": 18,
   "metadata": {},
   "outputs": [
    {
     "name": "stdout",
     "output_type": "stream",
     "text": [
      "   ncessch_num  year                        school_name         city state  \\\n",
      "0  10000500870  2020          Albertville Middle School  Albertville    AL   \n",
      "1  10000500871  2020            Albertville High School  Albertville    AL   \n",
      "2  10000500879  2020    Albertville Intermediate School  Albertville    AL   \n",
      "3  10000500889  2020      Albertville Elementary School  Albertville    AL   \n",
      "4  10000501616  2020  Albertville Kindergarten and PreK  Albertville    AL   \n",
      "\n",
      "     zip  latitude  longitude  perflunch  perrlunch  ...  grade_edfacts  race  \\\n",
      "0  35950   34.2602 -86.206200   0.365639   0.029540  ...           99.0  99.0   \n",
      "1  35950   34.2622 -86.204900   0.283935   0.032601  ...           99.0  99.0   \n",
      "2  35950   34.2733 -86.220100   0.370370   0.034081  ...           99.0  99.0   \n",
      "3  35950   34.2527 -86.221806   0.437225   0.046046  ...           99.0  99.0   \n",
      "4  35951   34.2898 -86.193300   0.325540   0.022814  ...            NaN   NaN   \n",
      "\n",
      "    sex   lep  homeless  migrant  disability econ_disadvantaged  foster_care  \\\n",
      "0  99.0  99.0      99.0     99.0        99.0               99.0         99.0   \n",
      "1  99.0  99.0      99.0     99.0        99.0               99.0         99.0   \n",
      "2  99.0  99.0      99.0     99.0        99.0               99.0         99.0   \n",
      "3  99.0  99.0      99.0     99.0        99.0               99.0         99.0   \n",
      "4   NaN   NaN       NaN      NaN         NaN                NaN          NaN   \n",
      "\n",
      "   military_connected  \n",
      "0                99.0  \n",
      "1                99.0  \n",
      "2                99.0  \n",
      "3                99.0  \n",
      "4                 NaN  \n",
      "\n",
      "[5 rows x 31 columns]\n"
     ]
    }
   ],
   "source": [
    "merged_df['pctprofread'] = merged_df['pctprofread'] / 100\n",
    "merged_df['pctprofmath'] = merged_df['pctprofmath'] / 100\n",
    "print(merged_df.head())"
   ]
  },
  {
   "cell_type": "code",
   "execution_count": 19,
   "metadata": {},
   "outputs": [],
   "source": [
    "merged_df.to_csv('data/merged2020_df.csv', index=False)"
   ]
  }
 ],
 "metadata": {
  "kernelspec": {
   "display_name": ".venv",
   "language": "python",
   "name": "python3"
  },
  "language_info": {
   "codemirror_mode": {
    "name": "ipython",
    "version": 3
   },
   "file_extension": ".py",
   "mimetype": "text/x-python",
   "name": "python",
   "nbconvert_exporter": "python",
   "pygments_lexer": "ipython3",
   "version": "3.12.3"
  }
 },
 "nbformat": 4,
 "nbformat_minor": 2
}
