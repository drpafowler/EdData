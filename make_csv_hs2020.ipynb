{
 "cells": [
  {
   "cell_type": "code",
   "execution_count": null,
   "metadata": {},
   "outputs": [
    {
     "name": "stderr",
     "output_type": "stream",
     "text": [
      "/tmp/ipykernel_698071/3296312368.py:18: DtypeWarning: Columns (7,8,9,11,12,13,14,15,17,50,51) have mixed types. Specify dtype option on import or set low_memory=False.\n",
      "  schools = pd.read_csv('data/schools_ccd_directory.csv')\n"
     ]
    },
    {
     "name": "stdout",
     "output_type": "stream",
     "text": [
      "    ncessch_num  year  read_test_pct_prof_midpt  math_test_pct_prof_midpt  \\\n",
      "47  10000500871  2020                      22.0                      19.0   \n",
      "48  10000500871  2020                      10.0                      10.0   \n",
      "49  10000500871  2020                      12.0                       7.5   \n",
      "50  10000500871  2020                      22.0                      22.0   \n",
      "51  10000500871  2020                       5.0                       5.0   \n",
      "\n",
      "    grade_edfacts  race  sex  lep  homeless  migrant  ...     pertr  perwhite  \\\n",
      "47             99    99   99   99        99       99  ...  0.023661  0.439602   \n",
      "48             99    99   99   99        99       99  ...  0.023661  0.439602   \n",
      "49             99    99   99   99        99       99  ...  0.023661  0.439602   \n",
      "50             99    99    2   99        99       99  ...  0.023661  0.439602   \n",
      "51             99    99   99    1        99       99  ...  0.023661  0.439602   \n",
      "\n",
      "             level  perpoverty              school_name         city  state  \\\n",
      "47  High/Secondary   16.530092  Albertville High School  Albertville     AL   \n",
      "48  High/Secondary   16.530092  Albertville High School  Albertville     AL   \n",
      "49  High/Secondary   16.530092  Albertville High School  Albertville     AL   \n",
      "50  High/Secondary   16.530092  Albertville High School  Albertville     AL   \n",
      "51  High/Secondary   16.530092  Albertville High School  Albertville     AL   \n",
      "\n",
      "      zip  latitude  longitude  \n",
      "47  35950   34.2622   -86.2049  \n",
      "48  35950   34.2622   -86.2049  \n",
      "49  35950   34.2622   -86.2049  \n",
      "50  35950   34.2622   -86.2049  \n",
      "51  35950   34.2622   -86.2049  \n",
      "\n",
      "[5 rows x 31 columns]\n",
      "(571438, 31)\n",
      "read_test_pct_prof_midpt    22313\n",
      "math_test_pct_prof_midpt    21684\n",
      "perpoverty                  14922\n",
      "dtype: int64\n"
     ]
    }
   ],
   "source": [
    "import pandas as pd\n",
    "\n",
    "#create edfacts dataframe\n",
    "assessment_df = pd.read_csv('data/schools_edfacts_assessments_2020.csv')\n",
    "assessment_df = assessment_df[['ncessch_num', 'year', 'read_test_pct_prof_midpt', 'math_test_pct_prof_midpt', 'grade_edfacts', 'race', 'sex', 'lep', 'homeless', 'migrant', 'disability', 'econ_disadvantaged', 'foster_care', 'military_connected']]  # Select only the required columns\n",
    "    \n",
    "#Create LISD dataframe\n",
    "lisd_2018_2022 = pd.read_csv('data/LISD_1.0_2018-2022.csv')\n",
    "lisd = lisd_2018_2022[['ncessch', 'year', 'perflunch', 'perrlunch', 'perfrlunch', 'pernam', 'perasian', 'perhisp', 'perblack', 'pertr', 'perwhite', 'level']]\n",
    "lisd.columns = ['ncessch_num', 'year', 'perflunch', 'perrlunch', 'perfrlunch', 'pernam', 'perasian', 'perhisp', 'perblack', 'pertr', 'perwhite', 'level']\n",
    "\n",
    "# Create meps dataframe\n",
    "meps = pd.read_csv('data/schools_meps.csv')\n",
    "meps = meps[['ncessch_num', 'year', 'meps_poverty_pct']]\n",
    "meps.columns = ['ncessch_num', 'year', 'perpoverty']\n",
    "\n",
    "# Create schools dataframe\n",
    "schools = pd.read_csv('data/schools_ccd_directory.csv')\n",
    "schools = schools[['ncessch_num', 'year', 'school_name', 'city_mailing', 'state_mailing', 'zip_mailing', 'latitude', 'longitude']]\n",
    "schools.columns = ['ncessch_num', 'year', 'school_name', 'city', 'state', 'zip', 'latitude', 'longitude']\n",
    "\n",
    "# Filter dataframes for the year 2020\n",
    "lisd = lisd[lisd['year'] == 2020]\n",
    "meps = meps[meps['year'] == 2020]\n",
    "schools = schools[schools['year'] == 2020]\n",
    "\n",
    "# Merge dataframes\n",
    "df = pd.merge(assessment_df, lisd, on=['ncessch_num', 'year'], how='left')\n",
    "df = pd.merge(df, meps, on=['ncessch_num', 'year'], how='left')\n",
    "df = pd.merge(df, schools, on=['ncessch_num', 'year'], how='left')\n",
    "\n",
    "# filter only rows where level is High/Secondary\n",
    "df = df[df['level'] == 'High/Secondary']\n",
    "\n",
    "print(df.head())\n",
    "print(df.shape)\n",
    "\n"
   ]
  },
  {
   "cell_type": "code",
   "execution_count": null,
   "metadata": {},
   "outputs": [
    {
     "name": "stdout",
     "output_type": "stream",
     "text": [
      "read_test_pct_prof_midpt    22313\n",
      "math_test_pct_prof_midpt    21684\n",
      "perpoverty                  14922\n",
      "dtype: int64\n"
     ]
    }
   ],
   "source": [
    "nulls = df.isnull().sum()\n",
    "print(nulls[nulls > 0])"
   ]
  },
  {
   "cell_type": "code",
   "execution_count": 10,
   "metadata": {},
   "outputs": [
    {
     "name": "stdout",
     "output_type": "stream",
     "text": [
      "    ncessch_num  year  read_test_pct_prof_midpt  math_test_pct_prof_midpt  \\\n",
      "47  10000500871  2020                      22.0                      19.0   \n",
      "48  10000500871  2020                      10.0                      10.0   \n",
      "49  10000500871  2020                      12.0                       7.5   \n",
      "50  10000500871  2020                      22.0                      22.0   \n",
      "51  10000500871  2020                       5.0                       5.0   \n",
      "\n",
      "    grade_edfacts  race  sex  lep  homeless  migrant  ...     pertr  perwhite  \\\n",
      "47             99    99   99   99        99       99  ...  0.023661  0.439602   \n",
      "48             99    99   99   99        99       99  ...  0.023661  0.439602   \n",
      "49             99    99   99   99        99       99  ...  0.023661  0.439602   \n",
      "50             99    99    2   99        99       99  ...  0.023661  0.439602   \n",
      "51             99    99   99    1        99       99  ...  0.023661  0.439602   \n",
      "\n",
      "             level  perpoverty              school_name         city  state  \\\n",
      "47  High/Secondary   16.530092  Albertville High School  Albertville     AL   \n",
      "48  High/Secondary   16.530092  Albertville High School  Albertville     AL   \n",
      "49  High/Secondary   16.530092  Albertville High School  Albertville     AL   \n",
      "50  High/Secondary   16.530092  Albertville High School  Albertville     AL   \n",
      "51  High/Secondary   16.530092  Albertville High School  Albertville     AL   \n",
      "\n",
      "      zip  latitude  longitude  \n",
      "47  35950   34.2622   -86.2049  \n",
      "48  35950   34.2622   -86.2049  \n",
      "49  35950   34.2622   -86.2049  \n",
      "50  35950   34.2622   -86.2049  \n",
      "51  35950   34.2622   -86.2049  \n",
      "\n",
      "[5 rows x 31 columns]\n",
      "(529774, 31)\n"
     ]
    }
   ],
   "source": [
    "df_cleaned = df.dropna()\n",
    "print(df_cleaned.head())\n",
    "print(df_cleaned.shape)"
   ]
  },
  {
   "cell_type": "code",
   "execution_count": 11,
   "metadata": {},
   "outputs": [],
   "source": [
    "# write the cleaned data to a csv file\n",
    "df_cleaned.to_csv('data/merged_2020_hs.csv', index=False)"
   ]
  }
 ],
 "metadata": {
  "kernelspec": {
   "display_name": ".venv",
   "language": "python",
   "name": "python3"
  },
  "language_info": {
   "codemirror_mode": {
    "name": "ipython",
    "version": 3
   },
   "file_extension": ".py",
   "mimetype": "text/x-python",
   "name": "python",
   "nbconvert_exporter": "python",
   "pygments_lexer": "ipython3",
   "version": "3.12.3"
  }
 },
 "nbformat": 4,
 "nbformat_minor": 2
}
